{
 "cells": [
  {
   "cell_type": "markdown",
   "id": "2389a287",
   "metadata": {},
   "source": [
    "**В двух файлах - experiments_cnn_with_res и experiments_simple_cnn мы последовательно рассматривали две архитектуры нейронных сетей:**\\\n",
    "**простую сверточную сеть и сеть с остаточными блоками.**\\\n",
    "**Лучшую метрику качествапоказала модель с остаточными блоками: она состояла из 11 сверточных слоев (5 residual-блоков),**\\\n",
    "**использовала аугментацию данных и обучалась в течение 60 эпох.**\\\n",
    "**В итоге удалось добиться стабильной сходимости и высоких результатов: точность на тесте превышает 80%, при хорошем контроле переобучения**\\\n",
    "**График - \"final_model_plot\\res_final_with_aug_60ep.png\"**"
   ]
  },
  {
   "cell_type": "code",
   "execution_count": 1,
   "id": "fedd9f2d",
   "metadata": {},
   "outputs": [
    {
     "name": "stdout",
     "output_type": "stream",
     "text": [
      "\n",
      "=== Запуск  модели: kernel_size=3, depth=5, epochs=60 === с аугментацией\n"
     ]
    },
    {
     "name": "stderr",
     "output_type": "stream",
     "text": [
      "100%|██████████| 211/211 [03:16<00:00,  1.08it/s]\n",
      "100%|██████████| 8/8 [00:01<00:00,  5.00it/s]\n"
     ]
    },
    {
     "name": "stdout",
     "output_type": "stream",
     "text": [
      "Epoch 1/60:\n",
      "Train Loss: 4.1008, Train Acc: 0.0636\n",
      "Test Loss: 3.6215, Test Acc: 0.1060\n",
      "--------------------------------------------------\n"
     ]
    },
    {
     "name": "stderr",
     "output_type": "stream",
     "text": [
      "100%|██████████| 211/211 [01:51<00:00,  1.89it/s]\n",
      "100%|██████████| 8/8 [00:01<00:00,  5.72it/s]\n"
     ]
    },
    {
     "name": "stdout",
     "output_type": "stream",
     "text": [
      "Epoch 2/60:\n",
      "Train Loss: 3.6948, Train Acc: 0.1137\n",
      "Test Loss: 3.3478, Test Acc: 0.1780\n",
      "--------------------------------------------------\n"
     ]
    },
    {
     "name": "stderr",
     "output_type": "stream",
     "text": [
      "100%|██████████| 211/211 [01:51<00:00,  1.89it/s]\n",
      "100%|██████████| 8/8 [00:01<00:00,  5.93it/s]\n"
     ]
    },
    {
     "name": "stdout",
     "output_type": "stream",
     "text": [
      "Epoch 3/60:\n",
      "Train Loss: 3.4619, Train Acc: 0.1551\n",
      "Test Loss: 3.0607, Test Acc: 0.2000\n",
      "--------------------------------------------------\n"
     ]
    },
    {
     "name": "stderr",
     "output_type": "stream",
     "text": [
      "100%|██████████| 211/211 [01:57<00:00,  1.80it/s]\n",
      "100%|██████████| 8/8 [00:01<00:00,  6.49it/s]\n"
     ]
    },
    {
     "name": "stdout",
     "output_type": "stream",
     "text": [
      "Epoch 4/60:\n",
      "Train Loss: 3.2748, Train Acc: 0.1877\n",
      "Test Loss: 2.9996, Test Acc: 0.2140\n",
      "--------------------------------------------------\n"
     ]
    },
    {
     "name": "stderr",
     "output_type": "stream",
     "text": [
      "100%|██████████| 211/211 [01:50<00:00,  1.91it/s]\n",
      "100%|██████████| 8/8 [00:01<00:00,  5.89it/s]\n"
     ]
    },
    {
     "name": "stdout",
     "output_type": "stream",
     "text": [
      "Epoch 5/60:\n",
      "Train Loss: 3.1126, Train Acc: 0.2149\n",
      "Test Loss: 2.6932, Test Acc: 0.2960\n",
      "--------------------------------------------------\n"
     ]
    },
    {
     "name": "stderr",
     "output_type": "stream",
     "text": [
      "100%|██████████| 211/211 [02:02<00:00,  1.72it/s]\n",
      "100%|██████████| 8/8 [00:01<00:00,  5.02it/s]\n"
     ]
    },
    {
     "name": "stdout",
     "output_type": "stream",
     "text": [
      "Epoch 6/60:\n",
      "Train Loss: 2.9507, Train Acc: 0.2430\n",
      "Test Loss: 2.8509, Test Acc: 0.2820\n",
      "--------------------------------------------------\n"
     ]
    },
    {
     "name": "stderr",
     "output_type": "stream",
     "text": [
      "100%|██████████| 211/211 [02:07<00:00,  1.66it/s]\n",
      "100%|██████████| 8/8 [00:01<00:00,  5.11it/s]\n"
     ]
    },
    {
     "name": "stdout",
     "output_type": "stream",
     "text": [
      "Epoch 7/60:\n",
      "Train Loss: 2.8256, Train Acc: 0.2780\n",
      "Test Loss: 2.3975, Test Acc: 0.3820\n",
      "--------------------------------------------------\n"
     ]
    },
    {
     "name": "stderr",
     "output_type": "stream",
     "text": [
      "100%|██████████| 211/211 [02:07<00:00,  1.66it/s]\n",
      "100%|██████████| 8/8 [00:01<00:00,  6.01it/s]\n"
     ]
    },
    {
     "name": "stdout",
     "output_type": "stream",
     "text": [
      "Epoch 8/60:\n",
      "Train Loss: 2.6973, Train Acc: 0.2991\n",
      "Test Loss: 2.5045, Test Acc: 0.3740\n",
      "--------------------------------------------------\n"
     ]
    },
    {
     "name": "stderr",
     "output_type": "stream",
     "text": [
      "100%|██████████| 211/211 [01:47<00:00,  1.96it/s]\n",
      "100%|██████████| 8/8 [00:01<00:00,  6.14it/s]\n"
     ]
    },
    {
     "name": "stdout",
     "output_type": "stream",
     "text": [
      "Epoch 9/60:\n",
      "Train Loss: 2.5841, Train Acc: 0.3305\n",
      "Test Loss: 2.4314, Test Acc: 0.4140\n",
      "--------------------------------------------------\n"
     ]
    },
    {
     "name": "stderr",
     "output_type": "stream",
     "text": [
      "100%|██████████| 211/211 [01:47<00:00,  1.96it/s]\n",
      "100%|██████████| 8/8 [00:01<00:00,  6.05it/s]\n"
     ]
    },
    {
     "name": "stdout",
     "output_type": "stream",
     "text": [
      "Epoch 10/60:\n",
      "Train Loss: 2.4736, Train Acc: 0.3565\n",
      "Test Loss: 2.1781, Test Acc: 0.4220\n",
      "--------------------------------------------------\n"
     ]
    },
    {
     "name": "stderr",
     "output_type": "stream",
     "text": [
      "100%|██████████| 211/211 [01:47<00:00,  1.96it/s]\n",
      "100%|██████████| 8/8 [00:01<00:00,  6.15it/s]\n"
     ]
    },
    {
     "name": "stdout",
     "output_type": "stream",
     "text": [
      "Epoch 11/60:\n",
      "Train Loss: 2.3899, Train Acc: 0.3717\n",
      "Test Loss: 2.0578, Test Acc: 0.4460\n",
      "--------------------------------------------------\n"
     ]
    },
    {
     "name": "stderr",
     "output_type": "stream",
     "text": [
      "100%|██████████| 211/211 [02:00<00:00,  1.75it/s]\n",
      "100%|██████████| 8/8 [00:01<00:00,  5.40it/s]\n"
     ]
    },
    {
     "name": "stdout",
     "output_type": "stream",
     "text": [
      "Epoch 12/60:\n",
      "Train Loss: 2.2948, Train Acc: 0.3887\n",
      "Test Loss: 1.9598, Test Acc: 0.4700\n",
      "--------------------------------------------------\n"
     ]
    },
    {
     "name": "stderr",
     "output_type": "stream",
     "text": [
      "100%|██████████| 211/211 [01:53<00:00,  1.86it/s]\n",
      "100%|██████████| 8/8 [00:01<00:00,  5.33it/s]\n"
     ]
    },
    {
     "name": "stdout",
     "output_type": "stream",
     "text": [
      "Epoch 13/60:\n",
      "Train Loss: 2.2017, Train Acc: 0.4155\n",
      "Test Loss: 2.0147, Test Acc: 0.4760\n",
      "--------------------------------------------------\n"
     ]
    },
    {
     "name": "stderr",
     "output_type": "stream",
     "text": [
      "100%|██████████| 211/211 [02:02<00:00,  1.72it/s]\n",
      "100%|██████████| 8/8 [00:01<00:00,  5.88it/s]\n"
     ]
    },
    {
     "name": "stdout",
     "output_type": "stream",
     "text": [
      "Epoch 14/60:\n",
      "Train Loss: 2.1295, Train Acc: 0.4265\n",
      "Test Loss: 1.7959, Test Acc: 0.5280\n",
      "--------------------------------------------------\n"
     ]
    },
    {
     "name": "stderr",
     "output_type": "stream",
     "text": [
      "100%|██████████| 211/211 [01:53<00:00,  1.86it/s]\n",
      "100%|██████████| 8/8 [00:01<00:00,  5.83it/s]\n"
     ]
    },
    {
     "name": "stdout",
     "output_type": "stream",
     "text": [
      "Epoch 15/60:\n",
      "Train Loss: 2.0581, Train Acc: 0.4475\n",
      "Test Loss: 1.8589, Test Acc: 0.5140\n",
      "--------------------------------------------------\n"
     ]
    },
    {
     "name": "stderr",
     "output_type": "stream",
     "text": [
      "100%|██████████| 211/211 [01:55<00:00,  1.82it/s]\n",
      "100%|██████████| 8/8 [00:01<00:00,  5.27it/s]\n"
     ]
    },
    {
     "name": "stdout",
     "output_type": "stream",
     "text": [
      "Epoch 16/60:\n",
      "Train Loss: 1.9498, Train Acc: 0.4712\n",
      "Test Loss: 1.6802, Test Acc: 0.5560\n",
      "--------------------------------------------------\n"
     ]
    },
    {
     "name": "stderr",
     "output_type": "stream",
     "text": [
      "100%|██████████| 211/211 [01:52<00:00,  1.87it/s]\n",
      "100%|██████████| 8/8 [00:01<00:00,  5.59it/s]\n"
     ]
    },
    {
     "name": "stdout",
     "output_type": "stream",
     "text": [
      "Epoch 17/60:\n",
      "Train Loss: 1.9096, Train Acc: 0.4868\n",
      "Test Loss: 1.4496, Test Acc: 0.6040\n",
      "--------------------------------------------------\n"
     ]
    },
    {
     "name": "stderr",
     "output_type": "stream",
     "text": [
      "100%|██████████| 211/211 [01:51<00:00,  1.89it/s]\n",
      "100%|██████████| 8/8 [00:01<00:00,  5.64it/s]\n"
     ]
    },
    {
     "name": "stdout",
     "output_type": "stream",
     "text": [
      "Epoch 18/60:\n",
      "Train Loss: 1.8145, Train Acc: 0.5029\n",
      "Test Loss: 1.5194, Test Acc: 0.6040\n",
      "--------------------------------------------------\n"
     ]
    },
    {
     "name": "stderr",
     "output_type": "stream",
     "text": [
      "100%|██████████| 211/211 [01:53<00:00,  1.86it/s]\n",
      "100%|██████████| 8/8 [00:01<00:00,  5.91it/s]\n"
     ]
    },
    {
     "name": "stdout",
     "output_type": "stream",
     "text": [
      "Epoch 19/60:\n",
      "Train Loss: 1.7561, Train Acc: 0.5256\n",
      "Test Loss: 1.3502, Test Acc: 0.6140\n",
      "--------------------------------------------------\n"
     ]
    },
    {
     "name": "stderr",
     "output_type": "stream",
     "text": [
      "100%|██████████| 211/211 [01:51<00:00,  1.88it/s]\n",
      "100%|██████████| 8/8 [00:01<00:00,  5.54it/s]\n"
     ]
    },
    {
     "name": "stdout",
     "output_type": "stream",
     "text": [
      "Epoch 20/60:\n",
      "Train Loss: 1.6882, Train Acc: 0.5412\n",
      "Test Loss: 1.3765, Test Acc: 0.6100\n",
      "--------------------------------------------------\n"
     ]
    },
    {
     "name": "stderr",
     "output_type": "stream",
     "text": [
      "100%|██████████| 211/211 [01:52<00:00,  1.88it/s]\n",
      "100%|██████████| 8/8 [00:01<00:00,  5.56it/s]\n"
     ]
    },
    {
     "name": "stdout",
     "output_type": "stream",
     "text": [
      "Epoch 21/60:\n",
      "Train Loss: 1.6384, Train Acc: 0.5470\n",
      "Test Loss: 1.5277, Test Acc: 0.5960\n",
      "--------------------------------------------------\n"
     ]
    },
    {
     "name": "stderr",
     "output_type": "stream",
     "text": [
      "100%|██████████| 211/211 [01:52<00:00,  1.88it/s]\n",
      "100%|██████████| 8/8 [00:01<00:00,  5.55it/s]\n"
     ]
    },
    {
     "name": "stdout",
     "output_type": "stream",
     "text": [
      "Epoch 22/60:\n",
      "Train Loss: 1.5760, Train Acc: 0.5660\n",
      "Test Loss: 1.1669, Test Acc: 0.6700\n",
      "--------------------------------------------------\n"
     ]
    },
    {
     "name": "stderr",
     "output_type": "stream",
     "text": [
      "100%|██████████| 211/211 [01:52<00:00,  1.88it/s]\n",
      "100%|██████████| 8/8 [00:01<00:00,  5.62it/s]\n"
     ]
    },
    {
     "name": "stdout",
     "output_type": "stream",
     "text": [
      "Epoch 23/60:\n",
      "Train Loss: 1.5104, Train Acc: 0.5798\n",
      "Test Loss: 1.2713, Test Acc: 0.6400\n",
      "--------------------------------------------------\n"
     ]
    },
    {
     "name": "stderr",
     "output_type": "stream",
     "text": [
      "100%|██████████| 211/211 [01:52<00:00,  1.87it/s]\n",
      "100%|██████████| 8/8 [00:01<00:00,  5.57it/s]\n"
     ]
    },
    {
     "name": "stdout",
     "output_type": "stream",
     "text": [
      "Epoch 24/60:\n",
      "Train Loss: 1.4760, Train Acc: 0.5863\n",
      "Test Loss: 1.2520, Test Acc: 0.6520\n",
      "--------------------------------------------------\n"
     ]
    },
    {
     "name": "stderr",
     "output_type": "stream",
     "text": [
      "100%|██████████| 211/211 [01:54<00:00,  1.85it/s]\n",
      "100%|██████████| 8/8 [00:01<00:00,  5.57it/s]\n"
     ]
    },
    {
     "name": "stdout",
     "output_type": "stream",
     "text": [
      "Epoch 25/60:\n",
      "Train Loss: 1.4148, Train Acc: 0.6067\n",
      "Test Loss: 1.1006, Test Acc: 0.6720\n",
      "--------------------------------------------------\n"
     ]
    },
    {
     "name": "stderr",
     "output_type": "stream",
     "text": [
      "100%|██████████| 211/211 [01:52<00:00,  1.88it/s]\n",
      "100%|██████████| 8/8 [00:01<00:00,  5.57it/s]\n"
     ]
    },
    {
     "name": "stdout",
     "output_type": "stream",
     "text": [
      "Epoch 26/60:\n",
      "Train Loss: 1.3734, Train Acc: 0.6160\n",
      "Test Loss: 1.1042, Test Acc: 0.6880\n",
      "--------------------------------------------------\n"
     ]
    },
    {
     "name": "stderr",
     "output_type": "stream",
     "text": [
      "100%|██████████| 211/211 [01:52<00:00,  1.88it/s]\n",
      "100%|██████████| 8/8 [00:01<00:00,  5.23it/s]\n"
     ]
    },
    {
     "name": "stdout",
     "output_type": "stream",
     "text": [
      "Epoch 27/60:\n",
      "Train Loss: 1.3208, Train Acc: 0.6248\n",
      "Test Loss: 1.0694, Test Acc: 0.6760\n",
      "--------------------------------------------------\n"
     ]
    },
    {
     "name": "stderr",
     "output_type": "stream",
     "text": [
      "100%|██████████| 211/211 [01:51<00:00,  1.89it/s]\n",
      "100%|██████████| 8/8 [00:01<00:00,  5.63it/s]\n"
     ]
    },
    {
     "name": "stdout",
     "output_type": "stream",
     "text": [
      "Epoch 28/60:\n",
      "Train Loss: 1.2873, Train Acc: 0.6353\n",
      "Test Loss: 1.0705, Test Acc: 0.7080\n",
      "--------------------------------------------------\n"
     ]
    },
    {
     "name": "stderr",
     "output_type": "stream",
     "text": [
      "100%|██████████| 211/211 [01:52<00:00,  1.88it/s]\n",
      "100%|██████████| 8/8 [00:01<00:00,  5.71it/s]\n"
     ]
    },
    {
     "name": "stdout",
     "output_type": "stream",
     "text": [
      "Epoch 29/60:\n",
      "Train Loss: 1.2554, Train Acc: 0.6440\n",
      "Test Loss: 1.1633, Test Acc: 0.6720\n",
      "--------------------------------------------------\n"
     ]
    },
    {
     "name": "stderr",
     "output_type": "stream",
     "text": [
      "100%|██████████| 211/211 [01:52<00:00,  1.88it/s]\n",
      "100%|██████████| 8/8 [00:01<00:00,  6.04it/s]\n"
     ]
    },
    {
     "name": "stdout",
     "output_type": "stream",
     "text": [
      "Epoch 30/60:\n",
      "Train Loss: 1.2033, Train Acc: 0.6546\n",
      "Test Loss: 1.1443, Test Acc: 0.6960\n",
      "--------------------------------------------------\n"
     ]
    },
    {
     "name": "stderr",
     "output_type": "stream",
     "text": [
      "100%|██████████| 211/211 [01:52<00:00,  1.87it/s]\n",
      "100%|██████████| 8/8 [00:01<00:00,  5.65it/s]\n"
     ]
    },
    {
     "name": "stdout",
     "output_type": "stream",
     "text": [
      "Epoch 31/60:\n",
      "Train Loss: 1.1664, Train Acc: 0.6697\n",
      "Test Loss: 0.9956, Test Acc: 0.7260\n",
      "--------------------------------------------------\n"
     ]
    },
    {
     "name": "stderr",
     "output_type": "stream",
     "text": [
      "100%|██████████| 211/211 [01:55<00:00,  1.83it/s]\n",
      "100%|██████████| 8/8 [00:01<00:00,  5.67it/s]\n"
     ]
    },
    {
     "name": "stdout",
     "output_type": "stream",
     "text": [
      "Epoch 32/60:\n",
      "Train Loss: 1.1266, Train Acc: 0.6780\n",
      "Test Loss: 0.9169, Test Acc: 0.7220\n",
      "--------------------------------------------------\n"
     ]
    },
    {
     "name": "stderr",
     "output_type": "stream",
     "text": [
      "100%|██████████| 211/211 [01:54<00:00,  1.85it/s]\n",
      "100%|██████████| 8/8 [00:01<00:00,  5.44it/s]\n"
     ]
    },
    {
     "name": "stdout",
     "output_type": "stream",
     "text": [
      "Epoch 33/60:\n",
      "Train Loss: 1.1078, Train Acc: 0.6883\n",
      "Test Loss: 1.0703, Test Acc: 0.6980\n",
      "--------------------------------------------------\n"
     ]
    },
    {
     "name": "stderr",
     "output_type": "stream",
     "text": [
      "100%|██████████| 211/211 [01:52<00:00,  1.87it/s]\n",
      "100%|██████████| 8/8 [00:01<00:00,  5.50it/s]\n"
     ]
    },
    {
     "name": "stdout",
     "output_type": "stream",
     "text": [
      "Epoch 34/60:\n",
      "Train Loss: 1.0765, Train Acc: 0.6920\n",
      "Test Loss: 0.7678, Test Acc: 0.7780\n",
      "--------------------------------------------------\n"
     ]
    },
    {
     "name": "stderr",
     "output_type": "stream",
     "text": [
      "100%|██████████| 211/211 [01:52<00:00,  1.87it/s]\n",
      "100%|██████████| 8/8 [00:01<00:00,  5.51it/s]\n"
     ]
    },
    {
     "name": "stdout",
     "output_type": "stream",
     "text": [
      "Epoch 35/60:\n",
      "Train Loss: 1.0340, Train Acc: 0.7017\n",
      "Test Loss: 0.7446, Test Acc: 0.7740\n",
      "--------------------------------------------------\n"
     ]
    },
    {
     "name": "stderr",
     "output_type": "stream",
     "text": [
      "100%|██████████| 211/211 [01:52<00:00,  1.87it/s]\n",
      "100%|██████████| 8/8 [00:01<00:00,  5.56it/s]\n"
     ]
    },
    {
     "name": "stdout",
     "output_type": "stream",
     "text": [
      "Epoch 36/60:\n",
      "Train Loss: 1.0082, Train Acc: 0.7054\n",
      "Test Loss: 0.9573, Test Acc: 0.7200\n",
      "--------------------------------------------------\n"
     ]
    },
    {
     "name": "stderr",
     "output_type": "stream",
     "text": [
      "100%|██████████| 211/211 [01:53<00:00,  1.86it/s]\n",
      "100%|██████████| 8/8 [00:01<00:00,  5.64it/s]\n"
     ]
    },
    {
     "name": "stdout",
     "output_type": "stream",
     "text": [
      "Epoch 37/60:\n",
      "Train Loss: 0.9850, Train Acc: 0.7151\n",
      "Test Loss: 0.8032, Test Acc: 0.7800\n",
      "--------------------------------------------------\n"
     ]
    },
    {
     "name": "stderr",
     "output_type": "stream",
     "text": [
      "100%|██████████| 211/211 [01:53<00:00,  1.86it/s]\n",
      "100%|██████████| 8/8 [00:01<00:00,  5.64it/s]\n"
     ]
    },
    {
     "name": "stdout",
     "output_type": "stream",
     "text": [
      "Epoch 38/60:\n",
      "Train Loss: 0.9672, Train Acc: 0.7189\n",
      "Test Loss: 0.8578, Test Acc: 0.7640\n",
      "--------------------------------------------------\n"
     ]
    },
    {
     "name": "stderr",
     "output_type": "stream",
     "text": [
      "100%|██████████| 211/211 [01:52<00:00,  1.87it/s]\n",
      "100%|██████████| 8/8 [00:01<00:00,  5.62it/s]\n"
     ]
    },
    {
     "name": "stdout",
     "output_type": "stream",
     "text": [
      "Epoch 39/60:\n",
      "Train Loss: 0.9246, Train Acc: 0.7335\n",
      "Test Loss: 0.8263, Test Acc: 0.7700\n",
      "--------------------------------------------------\n"
     ]
    },
    {
     "name": "stderr",
     "output_type": "stream",
     "text": [
      "100%|██████████| 211/211 [01:53<00:00,  1.86it/s]\n",
      "100%|██████████| 8/8 [00:01<00:00,  6.28it/s]\n"
     ]
    },
    {
     "name": "stdout",
     "output_type": "stream",
     "text": [
      "Epoch 40/60:\n",
      "Train Loss: 0.9069, Train Acc: 0.7339\n",
      "Test Loss: 0.8698, Test Acc: 0.7540\n",
      "--------------------------------------------------\n"
     ]
    },
    {
     "name": "stderr",
     "output_type": "stream",
     "text": [
      "100%|██████████| 211/211 [01:52<00:00,  1.88it/s]\n",
      "100%|██████████| 8/8 [00:01<00:00,  5.41it/s]\n"
     ]
    },
    {
     "name": "stdout",
     "output_type": "stream",
     "text": [
      "Epoch 41/60:\n",
      "Train Loss: 0.8817, Train Acc: 0.7396\n",
      "Test Loss: 0.8997, Test Acc: 0.7600\n",
      "--------------------------------------------------\n"
     ]
    },
    {
     "name": "stderr",
     "output_type": "stream",
     "text": [
      "100%|██████████| 211/211 [01:52<00:00,  1.88it/s]\n",
      "100%|██████████| 8/8 [00:01<00:00,  5.58it/s]\n"
     ]
    },
    {
     "name": "stdout",
     "output_type": "stream",
     "text": [
      "Epoch 42/60:\n",
      "Train Loss: 0.8393, Train Acc: 0.7497\n",
      "Test Loss: 0.7989, Test Acc: 0.7900\n",
      "--------------------------------------------------\n"
     ]
    },
    {
     "name": "stderr",
     "output_type": "stream",
     "text": [
      "100%|██████████| 211/211 [01:53<00:00,  1.86it/s]\n",
      "100%|██████████| 8/8 [00:01<00:00,  5.58it/s]\n"
     ]
    },
    {
     "name": "stdout",
     "output_type": "stream",
     "text": [
      "Epoch 43/60:\n",
      "Train Loss: 0.8353, Train Acc: 0.7506\n",
      "Test Loss: 0.6974, Test Acc: 0.7980\n",
      "--------------------------------------------------\n"
     ]
    },
    {
     "name": "stderr",
     "output_type": "stream",
     "text": [
      "100%|██████████| 211/211 [01:52<00:00,  1.88it/s]\n",
      "100%|██████████| 8/8 [00:01<00:00,  5.62it/s]\n"
     ]
    },
    {
     "name": "stdout",
     "output_type": "stream",
     "text": [
      "Epoch 44/60:\n",
      "Train Loss: 0.8150, Train Acc: 0.7579\n",
      "Test Loss: 0.7161, Test Acc: 0.7980\n",
      "--------------------------------------------------\n"
     ]
    },
    {
     "name": "stderr",
     "output_type": "stream",
     "text": [
      "100%|██████████| 211/211 [01:51<00:00,  1.89it/s]\n",
      "100%|██████████| 8/8 [00:01<00:00,  5.70it/s]\n"
     ]
    },
    {
     "name": "stdout",
     "output_type": "stream",
     "text": [
      "Epoch 45/60:\n",
      "Train Loss: 0.7790, Train Acc: 0.7711\n",
      "Test Loss: 0.6662, Test Acc: 0.8140\n",
      "--------------------------------------------------\n"
     ]
    },
    {
     "name": "stderr",
     "output_type": "stream",
     "text": [
      "100%|██████████| 211/211 [01:53<00:00,  1.86it/s]\n",
      "100%|██████████| 8/8 [00:01<00:00,  5.53it/s]\n"
     ]
    },
    {
     "name": "stdout",
     "output_type": "stream",
     "text": [
      "Epoch 46/60:\n",
      "Train Loss: 0.7618, Train Acc: 0.7720\n",
      "Test Loss: 0.8524, Test Acc: 0.7620\n",
      "--------------------------------------------------\n"
     ]
    },
    {
     "name": "stderr",
     "output_type": "stream",
     "text": [
      "100%|██████████| 211/211 [01:52<00:00,  1.88it/s]\n",
      "100%|██████████| 8/8 [00:01<00:00,  5.57it/s]\n"
     ]
    },
    {
     "name": "stdout",
     "output_type": "stream",
     "text": [
      "Epoch 47/60:\n",
      "Train Loss: 0.7591, Train Acc: 0.7752\n",
      "Test Loss: 0.7632, Test Acc: 0.7900\n",
      "--------------------------------------------------\n"
     ]
    },
    {
     "name": "stderr",
     "output_type": "stream",
     "text": [
      "100%|██████████| 211/211 [01:51<00:00,  1.88it/s]\n",
      "100%|██████████| 8/8 [00:01<00:00,  5.63it/s]\n"
     ]
    },
    {
     "name": "stdout",
     "output_type": "stream",
     "text": [
      "Epoch 48/60:\n",
      "Train Loss: 0.7310, Train Acc: 0.7856\n",
      "Test Loss: 0.7201, Test Acc: 0.7820\n",
      "--------------------------------------------------\n"
     ]
    },
    {
     "name": "stderr",
     "output_type": "stream",
     "text": [
      "100%|██████████| 211/211 [01:52<00:00,  1.87it/s]\n",
      "100%|██████████| 8/8 [00:01<00:00,  5.66it/s]\n"
     ]
    },
    {
     "name": "stdout",
     "output_type": "stream",
     "text": [
      "Epoch 49/60:\n",
      "Train Loss: 0.7060, Train Acc: 0.7901\n",
      "Test Loss: 0.7040, Test Acc: 0.7960\n",
      "--------------------------------------------------\n"
     ]
    },
    {
     "name": "stderr",
     "output_type": "stream",
     "text": [
      "100%|██████████| 211/211 [01:52<00:00,  1.88it/s]\n",
      "100%|██████████| 8/8 [00:01<00:00,  5.65it/s]\n"
     ]
    },
    {
     "name": "stdout",
     "output_type": "stream",
     "text": [
      "Epoch 50/60:\n",
      "Train Loss: 0.6870, Train Acc: 0.7903\n",
      "Test Loss: 0.7332, Test Acc: 0.7940\n",
      "--------------------------------------------------\n"
     ]
    },
    {
     "name": "stderr",
     "output_type": "stream",
     "text": [
      "100%|██████████| 211/211 [01:52<00:00,  1.88it/s]\n",
      "100%|██████████| 8/8 [00:01<00:00,  5.78it/s]\n"
     ]
    },
    {
     "name": "stdout",
     "output_type": "stream",
     "text": [
      "Epoch 51/60:\n",
      "Train Loss: 0.6775, Train Acc: 0.8006\n",
      "Test Loss: 0.6032, Test Acc: 0.8160\n",
      "--------------------------------------------------\n"
     ]
    },
    {
     "name": "stderr",
     "output_type": "stream",
     "text": [
      "100%|██████████| 211/211 [01:41<00:00,  2.09it/s]\n",
      "100%|██████████| 8/8 [00:01<00:00,  6.82it/s]\n"
     ]
    },
    {
     "name": "stdout",
     "output_type": "stream",
     "text": [
      "Epoch 52/60:\n",
      "Train Loss: 0.6718, Train Acc: 0.7995\n",
      "Test Loss: 0.7776, Test Acc: 0.7980\n",
      "--------------------------------------------------\n"
     ]
    },
    {
     "name": "stderr",
     "output_type": "stream",
     "text": [
      "100%|██████████| 211/211 [01:37<00:00,  2.17it/s]\n",
      "100%|██████████| 8/8 [00:01<00:00,  6.67it/s]\n"
     ]
    },
    {
     "name": "stdout",
     "output_type": "stream",
     "text": [
      "Epoch 53/60:\n",
      "Train Loss: 0.6482, Train Acc: 0.8017\n",
      "Test Loss: 0.9395, Test Acc: 0.7640\n",
      "--------------------------------------------------\n"
     ]
    },
    {
     "name": "stderr",
     "output_type": "stream",
     "text": [
      "100%|██████████| 211/211 [01:47<00:00,  1.97it/s]\n",
      "100%|██████████| 8/8 [00:01<00:00,  5.78it/s]\n"
     ]
    },
    {
     "name": "stdout",
     "output_type": "stream",
     "text": [
      "Epoch 54/60:\n",
      "Train Loss: 0.6496, Train Acc: 0.8036\n",
      "Test Loss: 0.7370, Test Acc: 0.8000\n",
      "--------------------------------------------------\n"
     ]
    },
    {
     "name": "stderr",
     "output_type": "stream",
     "text": [
      "100%|██████████| 211/211 [01:52<00:00,  1.88it/s]\n",
      "100%|██████████| 8/8 [00:01<00:00,  5.82it/s]\n"
     ]
    },
    {
     "name": "stdout",
     "output_type": "stream",
     "text": [
      "Epoch 55/60:\n",
      "Train Loss: 0.6309, Train Acc: 0.8066\n",
      "Test Loss: 0.5719, Test Acc: 0.8360\n",
      "--------------------------------------------------\n"
     ]
    },
    {
     "name": "stderr",
     "output_type": "stream",
     "text": [
      "100%|██████████| 211/211 [01:52<00:00,  1.88it/s]\n",
      "100%|██████████| 8/8 [00:01<00:00,  5.84it/s]\n"
     ]
    },
    {
     "name": "stdout",
     "output_type": "stream",
     "text": [
      "Epoch 56/60:\n",
      "Train Loss: 0.6052, Train Acc: 0.8159\n",
      "Test Loss: 0.8200, Test Acc: 0.7740\n",
      "--------------------------------------------------\n"
     ]
    },
    {
     "name": "stderr",
     "output_type": "stream",
     "text": [
      "100%|██████████| 211/211 [01:52<00:00,  1.88it/s]\n",
      "100%|██████████| 8/8 [00:01<00:00,  5.86it/s]\n"
     ]
    },
    {
     "name": "stdout",
     "output_type": "stream",
     "text": [
      "Epoch 57/60:\n",
      "Train Loss: 0.5748, Train Acc: 0.8292\n",
      "Test Loss: 0.6771, Test Acc: 0.7900\n",
      "--------------------------------------------------\n"
     ]
    },
    {
     "name": "stderr",
     "output_type": "stream",
     "text": [
      "100%|██████████| 211/211 [01:51<00:00,  1.89it/s]\n",
      "100%|██████████| 8/8 [00:01<00:00,  5.90it/s]\n"
     ]
    },
    {
     "name": "stdout",
     "output_type": "stream",
     "text": [
      "Epoch 58/60:\n",
      "Train Loss: 0.5857, Train Acc: 0.8213\n",
      "Test Loss: 0.6106, Test Acc: 0.8200\n",
      "--------------------------------------------------\n"
     ]
    },
    {
     "name": "stderr",
     "output_type": "stream",
     "text": [
      "100%|██████████| 211/211 [01:51<00:00,  1.89it/s]\n",
      "100%|██████████| 8/8 [00:01<00:00,  5.86it/s]\n"
     ]
    },
    {
     "name": "stdout",
     "output_type": "stream",
     "text": [
      "Epoch 59/60:\n",
      "Train Loss: 0.5611, Train Acc: 0.8276\n",
      "Test Loss: 0.8354, Test Acc: 0.7880\n",
      "--------------------------------------------------\n"
     ]
    },
    {
     "name": "stderr",
     "output_type": "stream",
     "text": [
      "100%|██████████| 211/211 [02:03<00:00,  1.71it/s]\n",
      "100%|██████████| 8/8 [00:01<00:00,  4.47it/s]\n"
     ]
    },
    {
     "name": "stdout",
     "output_type": "stream",
     "text": [
      "Epoch 60/60:\n",
      "Train Loss: 0.5489, Train Acc: 0.8340\n",
      "Test Loss: 0.6786, Test Acc: 0.8200\n",
      "--------------------------------------------------\n",
      "Время обучения за 60 эпох: 6952.29 секунд\n"
     ]
    },
    {
     "data": {
      "image/png": "[encoded data removed]",
      "text/plain": [
       "<Figure size 1200x400 with 2 Axes>"
      ]
     },
     "metadata": {},
     "output_type": "display_data"
    }
   ],
   "source": [
    "import torch\n",
    "from torch.utils.data import DataLoader\n",
    "from dataset import CustomImageDataset\n",
    "from models import CNNWithResidual\n",
    "from trainer import train_model\n",
    "from utils import plot_training_history\n",
    "import time\n",
    "\n",
    "train_root = 'data/train'\n",
    "test_root = 'data/test'\n",
    "device = torch.device('cuda' if torch.cuda.is_available() else 'cpu')\n",
    "batch_size = 64\n",
    "epochs = 60\n",
    "num_classes = 100\n",
    "kernel_size = 3\n",
    "depth = 5\n",
    "\n",
    "train_dataset = CustomImageDataset(train_root, is_aug=True)\n",
    "val_dataset = CustomImageDataset(test_root, is_aug=False)\n",
    "\n",
    "train_loader = DataLoader(train_dataset, batch_size=batch_size, shuffle=True)\n",
    "val_loader = DataLoader(val_dataset, batch_size=batch_size, shuffle=False)\n",
    "\n",
    "print(f\"\\n=== Запуск  модели: kernel_size={kernel_size}, depth={depth}, epochs={epochs} === с аугментацией\")\n",
    "model = CNNWithResidual(\n",
    "    input_channels=3,\n",
    "    num_classes=num_classes,\n",
    "    kernel_size=kernel_size,\n",
    "    num_layers=depth\n",
    ").to(device)\n",
    "\n",
    "start_time = time.time()\n",
    "\n",
    "history = train_model(\n",
    "    model=model,\n",
    "    train_loader=train_loader,\n",
    "    test_loader=val_loader,\n",
    "    epochs=epochs,\n",
    "    lr=0.001,\n",
    "    device=device\n",
    ")\n",
    "\n",
    "end_time = time.time()\n",
    "tm = end_time - start_time\n",
    "print(f\"Время обучения за {epochs} эпох: {tm:.2f} секунд\")\n",
    "\n",
    "plot_training_history(history, save_path=f\"plots/cnn_with_res/res_with_5depth_3kernel/res_final_with_aug_30ep.png\")"
   ]
  }
 ],
 "metadata": {
  "kernelspec": {
   "display_name": "venv",
   "language": "python",
   "name": "python3"
  },
  "language_info": {
   "codemirror_mode": {
    "name": "ipython",
    "version": 3
   },
   "file_extension": ".py",
   "mimetype": "text/x-python",
   "name": "python",
   "nbconvert_exporter": "python",
   "pygments_lexer": "ipython3",
   "version": "3.13.5"
  }
 },
 "nbformat": 4,
 "nbformat_minor": 5
}
